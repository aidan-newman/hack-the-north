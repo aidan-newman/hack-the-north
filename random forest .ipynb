{
 "cells": [
  {
   "cell_type": "code",
   "execution_count": 11,
   "id": "a6191406",
   "metadata": {},
   "outputs": [
    {
     "name": "stdout",
     "output_type": "stream",
     "text": [
      "Random Forest Accuracy: 69.30%\n",
      "Saved trained model to random_forest_model.pkl\n"
     ]
    }
   ],
   "source": [
    "from sklearn.neighbors import KNeighborsClassifier\n",
    "from sklearn.preprocessing import StandardScaler\n",
    "from sklearn.metrics import accuracy_score\n",
    "from sklearn.model_selection import train_test_split\n",
    "import os\n",
    "import cv2  \n",
    "import numpy as np\n",
    "from sklearn.ensemble import RandomForestClassifier\n",
    "from sklearn import svm\n",
    "import joblib\n",
    "\n",
    "def load_and_preprocess_images(directory_path, target_size=(224, 224)):\n",
    "    X = []\n",
    "    y = []\n",
    "    for category in os.listdir(directory_path):\n",
    "        category_path = os.path.join(directory_path, category)\n",
    "        for filename in os.listdir(category_path):\n",
    "            if filename.endswith(\".jpg\"):\n",
    "                img_path = os.path.join(category_path, filename)\n",
    "                img = cv2.imread(img_path)\n",
    "                img = cv2.resize(img, target_size)  # Resize the image to a consistent size\n",
    "                img = img.flatten()  # Flatten the image into a 1D array\n",
    "                X.append(img)\n",
    "                y.append(category)\n",
    "    return np.array(X), np.array(y)\n",
    "X, y = load_and_preprocess_images(r'C:\\Users\\nicol\\Documents\\Python Scripts\\hack the north\\Garbage classification\\Garbage classification')\n",
    "X_train, X_test, y_train, y_test = train_test_split(X, y, test_size=0.3, random_state=42)\n",
    "\n",
    "scaler = StandardScaler()\n",
    "X_train_scaled = scaler.fit_transform(X_train)\n",
    "X_test_scaled = scaler.transform(X_test)\n",
    "\n",
    "rf_classifier = RandomForestClassifier(n_estimators=100, random_state=42)  # You can adjust the number of trees (n_estimators) as needed\n",
    "rf_classifier.fit(X_train, y_train)\n",
    "y_pred_rf = rf_classifier.predict(X_test)\n",
    "accuracy_rf = accuracy_score(y_test, y_pred_rf)\n",
    "print(f'Random Forest Accuracy: {accuracy_rf * 100:.2f}%')\n",
    "\n",
    "# Save the trained model\n",
    "model_filename = 'random_forest_model.pkl'\n",
    "joblib.dump(rf_classifier, model_filename)\n",
    "print(f'Saved trained model to {model_filename}')"
   ]
  },
  {
   "cell_type": "code",
   "execution_count": null,
   "id": "ba9f7a8e",
   "metadata": {},
   "outputs": [],
   "source": []
  }
 ],
 "metadata": {
  "kernelspec": {
   "display_name": "Python 3 (ipykernel)",
   "language": "python",
   "name": "python3"
  },
  "language_info": {
   "codemirror_mode": {
    "name": "ipython",
    "version": 3
   },
   "file_extension": ".py",
   "mimetype": "text/x-python",
   "name": "python",
   "nbconvert_exporter": "python",
   "pygments_lexer": "ipython3",
   "version": "3.10.9"
  }
 },
 "nbformat": 4,
 "nbformat_minor": 5
}
